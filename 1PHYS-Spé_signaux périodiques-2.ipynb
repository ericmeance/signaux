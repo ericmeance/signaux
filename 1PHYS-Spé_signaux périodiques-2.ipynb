{
 "cells": [
  {
   "cell_type": "markdown",
   "metadata": {},
   "source": [
    "# C5- TP2 : Ondes périodiques et représentations mathématiques\n",
    "\n",
    "Sources : \n",
    "- Bruno Jaillet , académie de Besançon pour l'insparation des codes et les explications.\n",
    "- Daphné Lercier pour sa page sur les [widgets](https://makina-corpus.com/blog/metier/2019/augmenter-linteractivite-de-vos-notebooks-jupyter-1)\n"
   ]
  },
  {
   "cell_type": "markdown",
   "metadata": {},
   "source": [
    "# COMPTE RENDU\n",
    "Le compte rendu fera apparaitre le plan de ce Notebook\n",
    "Sur ce compte rendu , vous répondrez aux questions posées, vous ferez des copies d'écran des graphes obtenus."
   ]
  },
  {
   "cell_type": "markdown",
   "metadata": {},
   "source": [
    "## A- Représenter un signal périodique et illustrer l’influence de son amplitude sur sa représentation.\n",
    "\n",
    "Pour illustrer l’influence de l’amplitude d’un signal périodique sur sa représentation, il est possible de tracer un réseau de courbes représentant le même signal mais dont l’amplitude varie. Pour cela, le programme principal est organisé de la façon suivante :\n",
    "\n",
    " Une liste contient les valeurs des amplitudes successives de chaque courbe A=[1,2,3,4,5],\n",
    " \n",
    "Une liste contient la liste des couleurs de chacune des courbes C=[(0.2,0,0),(0.4,0,0),(0.6,0,0),(0.8,0,0),(1,0,0)]. \n",
    "\n",
    "Les couleurs sont codés avec le système RVB. La proportion de chacune des couleurs est désignée par une valeur comprise entre 0 et 1.\n",
    "\n",
    "La période du signal est fixée à 5 s.\n",
    "Un tableau Numpy contenant les valeurs du temps t est créé avec 100 valeurs variant de 0 à 10 : t=np.linspace(0,10,100).\n",
    "\n",
    "La boucle for s’exécute autant de fois qu’il y a de valeurs d’amplitudes dans la liste A. \n",
    "\n",
    "Elle créé un nouveau tableau Numpy nommé S en calculant S = A[i]*np.sin((2*np.pi/T)*t).  \n",
    "\n",
    "La chaîne de caractères “légende” qui s’affichera en légende sur la fenêtre graphique est crée de manière à indiquer les valeurs successives des amplitudes des différentes courbes tracées. \n",
    "\n",
    "Un appel à la fonction tracer(t,S,legende,C[i]) est réalisé avec quatre paramètres : le tableau t, le tableau S, la légende à afficher ainsi que la couleur de la courbe choisie dans la liste C. Cette fonction est chargée de tracer chacune des courbes.\n"
   ]
  },
  {
   "cell_type": "code",
   "execution_count": null,
   "metadata": {
    "scrolled": true
   },
   "outputs": [],
   "source": [
    "import matplotlib.pyplot as plt\n",
    "import numpy as np\n",
    "#Les fonctions-----------------------------------------\n",
    "def tracer(t,S,text,couleur):\n",
    "    plt.title(\"S=f(t)\")\n",
    "    plt.xlabel(\"Temps en s\")\n",
    "    plt.ylabel(\"Amplitude du signal S\")\n",
    "    plt.grid()\n",
    "    plt.plot(t, S, color=couleur, label=text)\n",
    "    plt.legend()\n",
    "#Le programme principal--------------------------------\n",
    "A=[1,2,3,4,5]\n",
    "C=[(0.2,0,0),(0.4,0,0),(0.6,0,0),(0.8,0,0),(1,0,0)]\n",
    "T=5\n",
    "t=np.linspace(0,10,100)\n",
    "for i in range(len(A)):\n",
    "    S = A[i]*np.sin((2*np.pi/T)*t)\n",
    "    legende=\"A=\"+str(A[i])\n",
    "    tracer(t,S,legende,C[i])\n",
    "\n",
    "plt.show()\n"
   ]
  },
  {
   "cell_type": "markdown",
   "metadata": {},
   "source": [
    "##### Travail à faire 1.\n",
    "Dans la cellule ci dessous, copier le code ci dessus et le modifier pour :\n",
    "\n",
    "    - faire apparaître des amplitudes qui varie de 5 à 25 avec 5 valeurs différentes.\n",
    "    - Changer le code RVB pour que les courbes soient rouge, verte, bleue, cyan et jaune.\n",
    "    \n",
    "  "
   ]
  },
  {
   "cell_type": "code",
   "execution_count": null,
   "metadata": {},
   "outputs": [],
   "source": []
  },
  {
   "cell_type": "markdown",
   "metadata": {},
   "source": [
    "#### Barre de défilement\n",
    "On peut avec la bibliothèque Ipywidgets créer des widgets comme des barres de défilement.\n",
    "\n",
    "##### Travail à faire 2\n",
    "\n",
    "Modifier le programme pour que :\n",
    "* l'amplitude varie entre 0 et 2.\n",
    "* deux motifs s'affichent sur le graphe\n",
    "\n",
    "Faire des copies d'écrans \n"
   ]
  },
  {
   "cell_type": "code",
   "execution_count": null,
   "metadata": {},
   "outputs": [],
   "source": [
    "from ipywidgets import interact\n",
    "import matplotlib.pyplot as plt\n",
    "import numpy as np\n",
    "pi = 3.1416\n",
    "T = 2.0\n",
    "def signal_plot(amplitude, color):\n",
    "   # Create a figure\n",
    "   fig, ax = plt.subplots(figsize=(5, 4))\n",
    "   # Add a grid\n",
    "   ax.grid(color='#EEEEEE', linewidth=2, linestyle='solid')\n",
    "   # Define the x range\n",
    "   t = np.linspace(0, 10, 1000)\n",
    "   # Plot the sinusoid\n",
    "   ax.plot(t, amplitude * np.sin((2*pi/T)*t), color=color, lw=5, alpha=0.6)\n",
    "   # Define the x and y limits\n",
    "   ax.set_xlim(0, 10)\n",
    "   ax.set_ylim(-1.1, 1.1)\n",
    "   plt.xlabel(\"Temps en s\")\n",
    "   plt.ylabel(\"Amplitude du signal \")\n",
    "    \n",
    "\n",
    "interact(signal_plot,amplitude=(0, 1.0, 0.1),color=['blue', 'green', 'red'])"
   ]
  },
  {
   "cell_type": "markdown",
   "metadata": {},
   "source": [
    "## B- Représenter un signal périodique et illustrer l’influence de sa période sur sa représentation.\n",
    "\n",
    "Pour montrer l’influence de la période du signal sur sa représentation, l’utilisation d’un réseau de courbe comme dans le programme précédent n’est pas la solution la plus pertinente car la représentation est peu lisible. Dans le programme proposé ci-dessous, des représentations du signal se succèdent avec une période de plus en plus grande. On obtient ainsi un effet d’animation qui montre l’influence de la période T sur la représentation du signal. Dans le programme principal :\n",
    "\n",
    " - L’amplitude du signal est fixée à une valeur de 3,\n",
    " - Un tableau Numpy contenant les valeurs de T est créé : T=np.linspace(1,5,10). Ces 10 valeurs sont comprises entre 1 s et 5 s.\n",
    " - Une boucle for va, pour chaque valeur de période contenue dans le tableau T :\n",
    "     * Créer un tableau S contenant les valeurs de l’amplitude du signal au cours du temps,\n",
    "     * .Créer la chaîne de caractère utilisée comme légende sur la représentation graphique en concaténant le texte “T=” avec la valeur de la période formatée avec un chiffre avant et après le séparateur décimal,\n",
    "     * Faire appel à la fonction tracer(t,S,legende) qui prend trois paramètres : le tableau t, le tableau S et la légende à afficher.\n",
    "\n",
    "La fonction tracer(t,S,legende) commence par effacer la fenêtre graphique puis définit le titre du graphique, les noms des axes, affiche la grille, affiche la courbe correspondant aux valeurs du signal en rouge, place la légende en haut et à gauche du graphique et fait une pause de 1 s.\n",
    "\n",
    "Les différentes courbes sont ainsi tracées toutes les 1 s ce qui donne l’effet d’animation."
   ]
  },
  {
   "cell_type": "code",
   "execution_count": null,
   "metadata": {},
   "outputs": [],
   "source": [
    "import matplotlib.pyplot as plt\n",
    "import numpy as np\n",
    "    #Les fonctions-----------------------------------------\n",
    "def tracer(t,S,text):\n",
    "    plt.clf()\n",
    "    plt.title(\"S=f(t)\")\n",
    "    plt.xlabel(\"Temps en s\")\n",
    "    plt.ylabel(\"Amplitude du signal S\")\n",
    "    plt.grid()\n",
    "    plt.plot(t, S, color='red', label=text)\n",
    "    plt.legend(loc='upper right')\n",
    "\n",
    "    plt.pause(1.0)\n",
    "    #Le programme principal--------------------------------\n",
    "A=3\n",
    "T=np.linspace(1,5,10)\n",
    "t=np.linspace(0,10,500)\n",
    "for i in range(len(T)):\n",
    "    f = 1/T[i]\n",
    "    print(\"la fréquence est de :\",f, \"hz\")\n",
    "    S = A*np.sin((2*np.pi/T[i])*t)\n",
    "    legende=\"T={0:1.1f}s\".format(T[i])\n",
    "    tracer(t,S,legende)\n",
    "    plt.show()\n",
    "    "
   ]
  },
  {
   "cell_type": "markdown",
   "metadata": {},
   "source": [
    "#### Barre de défilement\n",
    "Comme pour l'exemple précédent pour l'amplitude, on peut faire varier la période à l'aide d'une barre de défilement."
   ]
  },
  {
   "cell_type": "code",
   "execution_count": null,
   "metadata": {},
   "outputs": [],
   "source": [
    "from ipywidgets import interact\n",
    "import numpy as np\n",
    "import matplotlib.pyplot as plt\n",
    "A= 0.80\n",
    "def signal_plot(T, color):\n",
    "   # Create a figure\n",
    "   fig, ax = plt.subplots(figsize=(5, 4))\n",
    "   # Add a grid\n",
    "   ax.grid(color='#EEEEEE', linewidth=2, linestyle='solid')\n",
    "   # Define the x range\n",
    "   t = np.linspace(0, 10, 1000)\n",
    "   # Plot the sinusoid\n",
    "   ax.plot(t, A * np.sin((2*pi/T)*t), color=color, lw=5, alpha=0.6)\n",
    "   # Define the x and y limits\n",
    "   ax.set_xlim(0, 10)\n",
    "   ax.set_ylim(-1.1, 1.1)\n",
    "   plt.xlabel(\"Temps en s\")\n",
    "   plt.ylabel(\"Amplitude du signal \")\n",
    "   f = 1/T\n",
    "   print(\"la fréquence est de :\",f, \"hz\")\n",
    "\n",
    "interact(signal_plot,\n",
    "            T=(0.1, 3.0, 0.1),\n",
    "            color=['blue', 'green', 'red'])"
   ]
  },
  {
   "cell_type": "markdown",
   "metadata": {},
   "source": [
    "##### Travail à faire 3\n",
    "Dans la cellule suivante, modifier le code précédent pour que :\n",
    "* l'amplitude soit de 1.5\n",
    "* le temps s'affiche jusqu'à 20 secondes\n",
    "* la fréquence varie jusqu'à 30 Hz\n",
    "\n",
    "Dans la fonction sin((2*pi/T)*t), rajouter des valeurs type pi/4 ou -pi/3\n",
    "- Qu'est ce que cela change dans l'affichage du signal?\n",
    "\n"
   ]
  },
  {
   "cell_type": "code",
   "execution_count": null,
   "metadata": {},
   "outputs": [],
   "source": []
  },
  {
   "cell_type": "markdown",
   "metadata": {},
   "source": [
    "### C- Tout est modifiable\n",
    "\n",
    "##### Travail à faire 4\n",
    "Tester le code ci-dessous et répondre aux questions suivantes.\n",
    "* Combien de fois la fonction sinus est utilisée pour tracer la courbe?\n",
    "* Quelle différence y-a-til dans l'écriture de ces fonctions sinus?\n",
    "* Rajouter une fonction sinus dans l'écriture de la formule de la courbe dans la continuité de ce qui a été fait  et modifier ce qui doit l'être. ( copier le code dans la cellule d'après et apporter les modifications) \n"
   ]
  },
  {
   "cell_type": "code",
   "execution_count": null,
   "metadata": {},
   "outputs": [],
   "source": [
    "from ipywidgets import interact\n",
    "import numpy as np\n",
    "import matplotlib.pyplot as plt\n",
    " \n",
    "pi = 3.1416\n",
    "def signal_plot(A,B,C,T, color):\n",
    "   # Create a figure\n",
    "   fig, ax = plt.subplots(figsize=(5, 4))\n",
    "   # Add a grid\n",
    "   ax.grid(color='#EEEEEE', linewidth=2, linestyle='solid')\n",
    "   # Define the x range\n",
    "   t = np.linspace(0, 10, 1000)\n",
    "   # Plot the sinusoid\n",
    "   ax.plot(t, A * np.sin((2*pi/T)*t)+ B*np.sin((4*pi/T)*t) + C*np.sin((8*pi/T)*t), color=color, lw=5, alpha=0.6)\n",
    "   # Define the x and y limits\n",
    "   ax.set_xlim(0, 10)\n",
    "   ax.set_ylim(-4.6, 4.6)\n",
    "   plt.xlabel(\"Temps en s\")\n",
    "   plt.ylabel(\"Amplitude du signal \")\n",
    "   \n",
    "\n",
    "interact(signal_plot,\n",
    "            A=(0, 2.0, 0.1),\n",
    "            B=(0, 1.5, 0.1),\n",
    "            C=(0, 1.0, 0.1),\n",
    "            T =(0.1,10,0.1),\n",
    "         \n",
    "            color=['blue', 'green', 'red']),"
   ]
  },
  {
   "cell_type": "code",
   "execution_count": null,
   "metadata": {},
   "outputs": [],
   "source": []
  },
  {
   "cell_type": "markdown",
   "metadata": {
    "collapsed": true
   },
   "source": [
    "## D- Simuler la propagation d’une onde périodique.\n",
    "\n",
    "##### première partie du programme\n",
    "\n",
    "Pour simuler le déplacement d’une onde, il est possible de commencer par fixer l’amplitude (qui dépend de A,B et C) de l’onde, sa période T ainsi que sa célérité v comme le propose le programme ci-dessous. \n",
    "\n",
    "Un tableau Numpy est créé :   x=np.linspace(0,x_max,100*x_max). \n",
    "\n",
    "Il contient 100*x_max valeurs d’abscisse réparties sur l’intervalle compris entre 0 et x_max.\n",
    "\n",
    "L'ordonnée correspond au calcul suivant :\n",
    "y = A * np.sin((2*pi/T)*(t-x/v)) + B*np.sin((4*pi/T)*(t-x/v)) + C*np.sin((8*pi/T)*(t-x/v))\n",
    "\n",
    "On trace la courbe y en fonction de la position x.\n",
    "La courbe qui apparait est alors celle d'un instant t que l'on peut faire varier\n",
    "\n",
    "Les valeurs de la période T et du temps sont fixés à l'aide des curseurs.\n",
    "\n",
    "On peut alors simuler le déplacement de l'onde en augmentant le temps.\n",
    "\n",
    "la distance entre deux maximums correspond ici à la longueur d'onde\n",
    "\n",
    "##### deuxième partie du programme\n",
    "La deuxième partie du programme montre l'évolution de l'amplitude d'un point de position x, au cours du temps.\n",
    "\n",
    "L'ordonnée correspond au calcul suivant :\n",
    "y = A * np.sin((2*pi/T)*(t-x/v)) + B*np.sin((4*pi/T)*(t-x/v)) + C*np.sin((8*pi/T)*(t-x/v))\n",
    "\n",
    "On trace la courbe y en fonction du temps\n",
    "La courbe qui apparait est alors celle d'une position x, que l'on peut faire varier, au cours du temps.\n",
    "\n",
    "la distance entre deux maximums correspond ici à la période\n",
    "\n"
   ]
  },
  {
   "cell_type": "code",
   "execution_count": null,
   "metadata": {
    "scrolled": true
   },
   "outputs": [],
   "source": [
    "from ipywidgets import interact\n",
    "import numpy as np\n",
    "import matplotlib.pyplot as plt\n",
    "\n",
    "A =1.5\n",
    "B= 1.0\n",
    "C= 0.8\n",
    "v=5\n",
    "x_max=5\n",
    "pi = 3.1416\n",
    "\n",
    "  \n",
    "def signal_plot(T,t, color):\n",
    "   # Create a figure\n",
    "   fig, ax = plt.subplots(figsize=(5, 4))\n",
    "   # Add a grid\n",
    "   ax.grid(color='#EEEEEE', linewidth=2, linestyle='solid')\n",
    "   # Define the x range\n",
    "   x=np.linspace(0,x_max,100*x_max)\n",
    "   # Plot the sinusoid\n",
    "   ax.plot(x, A * np.sin((2*pi/T)*(t-x/v)) + B*np.sin((4*pi/T)*(t-x/v)) + C*np.sin((8*pi/T)*(t-x/v)) , color=color, lw=5, alpha=0.6)\n",
    "   # Define the x and y limits\n",
    "   ax.set_xlim(0, 5)\n",
    "   ax.set_ylim(-4.6, 4.6)\n",
    "   plt.xlabel(\"distance en m\")\n",
    "   plt.ylabel(\"Amplitude du signal \")\n",
    "   \n",
    "\n",
    "interact(signal_plot,\n",
    "            T =(0.1,0.5,0.05),\n",
    "            t=(0, 10,0.01),\n",
    "            color=['blue', 'green', 'red']),\n",
    "\n",
    "def signal_plot_bis(T,x, color):\n",
    "   # Create a figure\n",
    "   fig, ax = plt.subplots(figsize=(5, 4))\n",
    "   # Add a grid\n",
    "   ax.grid(color='#EEEEEE', linewidth=2, linestyle='solid')\n",
    "   # Define the x range\n",
    "   temps=np.linspace(0,0.5,10000)\n",
    "   # Plot the sinusoid\n",
    "   ax.plot(temps, A * np.sin((2*pi/T)*(temps-x/v)) + B*np.sin((4*pi/T)*(temps-x/v)) + C*np.sin((8*pi/T)*(temps-x/v)) , color=color, lw=5, alpha=0.6)\n",
    "   # Define the x and y limits\n",
    "   ax.set_xlim(0, 0.4)\n",
    "   ax.set_ylim(-4.6, 4.6)\n",
    "   plt.xlabel(\"temps en seconde\")\n",
    "   plt.ylabel(\"Amplitude du signal \")\n",
    "   \n",
    "\n",
    "interact(signal_plot_bis,\n",
    "            T =(0.1,0.5,0.05),\n",
    "            x =(0,5,0.1),\n",
    "            color=['blue', 'green', 'red']),\n",
    "\n",
    "\n",
    "\n",
    "         "
   ]
  },
  {
   "cell_type": "markdown",
   "metadata": {},
   "source": [
    "#### Travail à faire 5\n",
    "Fixer la même période pour les deux graphiques.\n",
    "1. Sur le graphique 1 estimer la longueur d'onde.  Expliquer la méthde utilisée. Quelle définition s'applique dans ce cas à la longueur d'onde?\n",
    "2. Sur le graphique 2, estimer la longueur d'onde. Expliquer la méthde utilisée. Quelle définition s'applique dans ce cas à la longueur d'onde?\n",
    "3. retrouver la valeur de T en vous servant des deux graphiques. Expliquer la méthde utilisée.\n",
    "4. Pour une valeur de T fixée, expliquer quoi modifier dans le programme pour augmenter la longueur d'onde\n",
    "\n"
   ]
  },
  {
   "cell_type": "code",
   "execution_count": null,
   "metadata": {},
   "outputs": [],
   "source": []
  }
 ],
 "metadata": {
  "kernelspec": {
   "display_name": "Python 3",
   "language": "python",
   "name": "python3"
  },
  "language_info": {
   "codemirror_mode": {
    "name": "ipython",
    "version": 3
   },
   "file_extension": ".py",
   "mimetype": "text/x-python",
   "name": "python",
   "nbconvert_exporter": "python",
   "pygments_lexer": "ipython3",
   "version": "3.7.3"
  }
 },
 "nbformat": 4,
 "nbformat_minor": 2
}
